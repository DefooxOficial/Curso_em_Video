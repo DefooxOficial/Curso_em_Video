{
 "cells": [
  {
   "cell_type": "markdown",
   "metadata": {},
   "source": [
    "## Exercício 3 - Crie um programa que leia dois números e mostre a soma entre eles."
   ]
  },
  {
   "cell_type": "code",
   "execution_count": null,
   "metadata": {},
   "outputs": [],
   "source": [
    "n1 = int(input('Digite um número: '))\n",
    "n2 = int(input('Digite outro número: '))\n",
    "\n",
    "soma = n1 + n2\n",
    "\n",
    "print(f'A soma entre {n1} e {n2} vale {soma}.')"
   ]
  },
  {
   "cell_type": "markdown",
   "metadata": {},
   "source": [
    "## Exercício 4 - Faça um programa que leia algo pelo teclado e mostre na tela o seu tipo primitivo e todas as informações possíveis sobre ele."
   ]
  },
  {
   "cell_type": "code",
   "execution_count": null,
   "metadata": {},
   "outputs": [],
   "source": [
    "dado = input('Digite algo: ')\n",
    "\n",
    "tipo_primitivo = type(dado)\n",
    "\n",
    "alnum = dado.isalnum()\n",
    "alpha = dado.isalpha()\n",
    "ascii = dado.isascii()\n",
    "decimal = dado.isdecimal()\n",
    "digit = dado.isdigit()\n",
    "identifier = dado.isidentifier()\n",
    "lower = dado.islower()\n",
    "numeric = dado.isnumeric()\n",
    "printable = dado.isprintable()\n",
    "space = dado.isspace()\n",
    "title = dado.istitle()\n",
    "upper = dado.isupper()\n",
    "\n",
    "print(f'O tipo primitivo de \"{dado}\" é {tipo_primitivo}.')\n",
    "print(f'Todos os caracteres de \"{dado}\" são alfanuméricos (possuem letras e números)? {alnum}')\n",
    "print(f'Todos os caracteres de \"{dado}\" são alfabéticos (possuem somente letras)? {alpha}')\n",
    "print(f'Todos os caracteres de \"{dado}\" são ascii? {ascii}')\n",
    "print(f'Todos os caracteres de \"{dado}\" são decimais? {decimal}')\n",
    "print(f'Todos os caracteres de \"{dado}\" são dígitos? {digit}')\n",
    "print(f'\"{dado}\" é identifier? {identifier}')\n",
    "print(f'Todos os caracteres de \"{dado}\" estão em minúsculas? {lower}')\n",
    "print(f'Todos os caracteres de \"{dado}\" são números? {numeric}')\n",
    "print(f'\"{dado}\" é printable? {printable}')\n",
    "print(f'Todos os caracteres de \"{dado}\" são espaçados? {space}')\n",
    "print(f'\"{dado}\" está capitalizada (primeira letra em maiúscula)? {title}')\n",
    "print(f'Todos os caracteres de \"{dado}\" são maiúsculas? {upper}')"
   ]
  }
 ],
 "metadata": {
  "kernelspec": {
   "display_name": "Python 3",
   "language": "python",
   "name": "python3"
  },
  "language_info": {
   "codemirror_mode": {
    "name": "ipython",
    "version": 3
   },
   "file_extension": ".py",
   "mimetype": "text/x-python",
   "name": "python",
   "nbconvert_exporter": "python",
   "pygments_lexer": "ipython3",
   "version": "3.12.1"
  }
 },
 "nbformat": 4,
 "nbformat_minor": 2
}
