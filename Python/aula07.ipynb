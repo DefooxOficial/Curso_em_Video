{
 "cells": [
  {
   "cell_type": "markdown",
   "metadata": {},
   "source": [
    "## Operadores Aritméticos\n",
    "\n",
    "```\n",
    "+ Adição\n",
    "\n",
    "- Subtração\n",
    "\n",
    "* Multiplicação\n",
    "\n",
    "** Potência\n",
    "\n",
    "pow(x, y) - Potência x elevado a y\n",
    "\n",
    "/ Divisão\n",
    "\n",
    "// Divisão inteira\n",
    "\n",
    "% Resto da divisão\n",
    "\n",
    "** (1/2) Raiz quadrada\n",
    "\n",
    "** (1/3) Raiz cúbica\n",
    "```"
   ]
  },
  {
   "cell_type": "code",
   "execution_count": null,
   "metadata": {},
   "outputs": [],
   "source": [
    "print(5 + 2)\n",
    "print(5 - 2)\n",
    "print(5 * 2)\n",
    "print(5 ** 2)\n",
    "print(pow(5, 2))\n",
    "print(5 / 2)\n",
    "print(5 // 2)\n",
    "print(5 % 2)"
   ]
  },
  {
   "cell_type": "code",
   "execution_count": null,
   "metadata": {},
   "outputs": [],
   "source": [
    "n1 = int(input('Digite um número: '))\n",
    "n2 = int(input('Digite outro número: '))\n",
    "\n",
    "soma = n1 + n2\n",
    "subtracao = n1 - n2\n",
    "multiplicacao = n1 * n2\n",
    "divisao = n1 / n2\n",
    "divisao_inteira = n1 // n2\n",
    "exponenciacao = n1 ** n2\n",
    "\n",
    "print(f'A soma é {soma}, a subtração é {subtracao}, a multiplicação é {multiplicacao} e a divisão é {divisao:.2f}.')  # :.2f Formatação mostrando apenas 2 casa decimal depois da vírgula. MAIS FORMATAÇÕES ABAIXO\n",
    "print(f'A divisão inteira é {divisao_inteira} e a exponenciação é {exponenciacao}.')"
   ]
  },
  {
   "cell_type": "code",
   "execution_count": null,
   "metadata": {},
   "outputs": [],
   "source": [
    "nome = input('Digite seu nome: ')\n",
    "\n",
    "print('Olá', end=', ')  # end='' No final da linha, vai juntar com a linha abaixo, acrescentando tudo que estiver dentro das aspas\n",
    "print(nome)"
   ]
  },
  {
   "cell_type": "code",
   "execution_count": null,
   "metadata": {},
   "outputs": [],
   "source": [
    "nome = input('Digite seu nome: ')\n",
    "\n",
    "print(f'Prazer em conhecer você, {nome}!\\nAté um outro dia!\\nDesejo tudo de bom!')  # \\n Vai quebrar a linha, jogando o que estiver depois em uma linha abaixa"
   ]
  },
  {
   "cell_type": "code",
   "execution_count": null,
   "metadata": {},
   "outputs": [],
   "source": [
    "print('OI' + 'Olá')\n",
    "print('OI' * 5)\n",
    "print('-=-' * 10)\n",
    "print('=' * 15)"
   ]
  },
  {
   "cell_type": "markdown",
   "metadata": {},
   "source": [
    "## Formatar variável\n",
    "\n",
    "Usar os dois pontos : após uma variável vai permitir formatar uma variável"
   ]
  },
  {
   "cell_type": "code",
   "execution_count": null,
   "metadata": {},
   "outputs": [],
   "source": [
    "nome = input(f'Qual é o seu nome? ')\n",
    "\n",
    "print(f'Prazer em te conhecer, {nome:20}!')  # A variável vai ocupar 20 espaços de caracteres\n",
    "\n",
    "print(f'Prazer em te conhecer, {nome:>20}!')  # A variável vai alinhar à direita, ocupando 20 espaços de caracteres\n",
    "\n",
    "print(f'Prazer em te conhecer, {nome:<20}!')  # A variável vai alinhar à esquerda, ocupando 20 espaços de caracteres\n",
    "\n",
    "print(f'Prazer em te conhecer, {nome:^20}!')  # A variável vai alinhar no meio, ocupando 20 espaços de caracteres\n",
    "\n",
    "print(f'Prazer em te conhecer, {nome:-^20}!')  # A variável vai alinhar no meio, ocupando 20 espaços de caracteres, sendo preenchida por - em ambos os lados"
   ]
  }
 ],
 "metadata": {
  "kernelspec": {
   "display_name": "Python 3",
   "language": "python",
   "name": "python3"
  },
  "language_info": {
   "codemirror_mode": {
    "name": "ipython",
    "version": 3
   },
   "file_extension": ".py",
   "mimetype": "text/x-python",
   "name": "python",
   "nbconvert_exporter": "python",
   "pygments_lexer": "ipython3",
   "version": "3.12.1"
  }
 },
 "nbformat": 4,
 "nbformat_minor": 2
}
