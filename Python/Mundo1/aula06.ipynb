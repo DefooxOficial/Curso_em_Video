{
 "cells": [
  {
   "cell_type": "code",
   "execution_count": null,
   "metadata": {},
   "outputs": [],
   "source": [
    "n1 = int(input('Digite um valor: '))\n",
    "n2 = int(input('Digite outro valor: '))\n",
    "\n",
    "s = n1 + n2\n",
    "\n",
    "print(f'A soma entre {n1} e {n2} vale {s}')"
   ]
  },
  {
   "cell_type": "code",
   "execution_count": null,
   "metadata": {},
   "outputs": [],
   "source": [
    "n0 = input('Digite um valor: ')\n",
    "n1 = str(input('Digite um valor: '))\n",
    "n2 = float(input('Digite um valor: '))\n",
    "n3 = int(input('Digite um valor: '))\n",
    "n4 = bool(input('Digite um valor: '))\n",
    "\n",
    "print(type(n0), type(n1), type(n2), type(n3), type(n4))"
   ]
  },
  {
   "cell_type": "code",
   "execution_count": null,
   "metadata": {},
   "outputs": [],
   "source": [
    "n = input('Digite algo: ')\n",
    "\n",
    "print(n.isnumeric())\n",
    "print(n.isalpha())\n",
    "print(n.isalnum())\n",
    "print(n.isupper())\n",
    "print(n.islower())"
   ]
  }
 ],
 "metadata": {
  "kernelspec": {
   "display_name": "Python 3",
   "language": "python",
   "name": "python3"
  },
  "language_info": {
   "codemirror_mode": {
    "name": "ipython",
    "version": 3
   },
   "file_extension": ".py",
   "mimetype": "text/x-python",
   "name": "python",
   "nbconvert_exporter": "python",
   "pygments_lexer": "ipython3",
   "version": "3.12.1"
  }
 },
 "nbformat": 4,
 "nbformat_minor": 2
}
